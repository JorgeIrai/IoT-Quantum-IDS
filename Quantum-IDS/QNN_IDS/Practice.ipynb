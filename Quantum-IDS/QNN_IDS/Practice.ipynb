{
 "cells": [
  {
   "cell_type": "code",
   "execution_count": 1,
   "id": "044046de",
   "metadata": {},
   "outputs": [],
   "source": [
    "import matplotlib.pyplot as plt\n",
    "import numpy as np\n",
    "import pandas as pd\n",
    "from IPython.display import clear_output\n",
    "from qiskit import QuantumCircuit\n",
    "from qiskit.circuit import Parameter\n",
    "from qiskit_machine_learning.optimizers import COBYLA, L_BFGS_B\n",
    "from qiskit_machine_learning.utils import algorithm_globals\n",
    "\n",
    "from qiskit_machine_learning.algorithms.classifiers import NeuralNetworkClassifier, VQC\n",
    "from qiskit_machine_learning.algorithms.regressors import NeuralNetworkRegressor, VQR\n",
    "from qiskit_machine_learning.neural_networks import SamplerQNN, EstimatorQNN\n",
    "\n",
    "\n",
    "algorithm_globals.random_seed = 42"
   ]
  },
  {
   "cell_type": "code",
   "execution_count": 2,
   "id": "c6afbc4f",
   "metadata": {},
   "outputs": [],
   "source": [
    "import os\n",
    "\n",
    "# Establece la GPU a usar (en este caso la GPU #1)\n",
    "os.environ[\"CUDA_VISIBLE_DEVICES\"] = \"1\""
   ]
  },
  {
   "cell_type": "code",
   "execution_count": 3,
   "id": "4ee28b87",
   "metadata": {},
   "outputs": [
    {
     "name": "stderr",
     "output_type": "stream",
     "text": [
      "/tmp/ipykernel_2049341/4124029957.py:17: DeprecationWarning: DataFrameGroupBy.apply operated on the grouping columns. This behavior is deprecated, and in a future version of pandas the grouping columns will be excluded from the operation. Either pass `include_groups=False` to exclude the groupings or explicitly select the grouping columns after groupby to silence this warning.\n",
      "  df_sampled = df.groupby('target').apply(lambda x: x.sample(5, random_state=42)).reset_index(drop=True)\n"
     ]
    }
   ],
   "source": [
    "import pandas as pd\n",
    "from sklearn.datasets import load_wine\n",
    "\n",
    "# Load dataset\n",
    "wine = load_wine()\n",
    "df = pd.DataFrame(wine.data, columns=wine.feature_names)\n",
    "df['target'] = wine.target\n",
    "\n",
    "# Keep only classes 0 and 1\n",
    "df = df[df['target'].isin([0, 1])]\n",
    "\n",
    "# Select columns\n",
    "selected_columns = ['alcohol', 'malic_acid', 'ash', 'target']\n",
    "df = df[selected_columns]\n",
    "\n",
    "# Sample 5 samples per class (3 for train, 2 for test)\n",
    "df_sampled = df.groupby('target').apply(lambda x: x.sample(5, random_state=42)).reset_index(drop=True)\n",
    "\n",
    "# Split: 3 for train, 2 for test per class\n",
    "train = df_sampled.groupby('target').head(3).reset_index(drop=True)\n",
    "test = df_sampled.groupby('target').tail(2).reset_index(drop=True)\n",
    "\n",
    "X_train = train.drop(columns='target').values\n",
    "y_train = train['target'].values\n",
    "X_test = test.drop(columns='target').values\n",
    "y_test = test['target'].values\n",
    "\n",
    "num_qubits = 2\n"
   ]
  },
  {
   "cell_type": "code",
   "execution_count": 3,
   "id": "9c795a3f",
   "metadata": {},
   "outputs": [],
   "source": [
    "from sklearn.datasets import load_wine\n",
    "wine = load_wine()\n",
    "df = pd.DataFrame(wine.data, columns=wine.feature_names)\n",
    "df['target'] = wine.target\n",
    "\n",
    "# Pick 3 columns (example: 'alcohol', 'malic_acid', 'ash')\n",
    "selected_columns = ['alcohol', 'malic_acid', 'target']\n",
    "df = df[selected_columns]\n",
    "\n",
    "# Get 3 samples per class\n",
    "df = df.groupby('target').head(3).reset_index(drop=True)\n",
    "\n",
    "train = df.groupby('target').head(2).reset_index(drop=True)\n",
    "test = df.groupby('target').tail(1).reset_index(drop=True)\n",
    "\n",
    "X_train = train.drop(columns='target').values\n",
    "y_train = train['target'].values\n",
    "X_test = test.drop(columns='target').values\n",
    "y_test = test['target'].values\n",
    "\n",
    "num_qubits = 2\n"
   ]
  },
  {
   "cell_type": "markdown",
   "id": "6d34e9e5",
   "metadata": {},
   "source": [
    "# NeuralNetwork Qiskit instance:\n",
    "* This class is the interface for all QNNs available in qiskit-machine-learning. This is an abstract class all QNNs inherit from. \n",
    "* It provides forward and backward pass and handles batched inputs. \n",
    "* It takes data samples and trainable weights as input.\n",
    "* This class is \"stateless\". This means that it doesn't contain any training capabilities, nor do they store the training values for trainable weights. This \"NeuralNetwork\"s are pushed to the actual algorithms or applications (classifiers, regresors...).\n",
    "\n"
   ]
  },
  {
   "cell_type": "markdown",
   "id": "3dcaee1d",
   "metadata": {},
   "source": [
    "## QNN CIRCUIT DEFINITION\n",
    "\n",
    "We use the QNNCircuit library to build the Quantum Neural Network."
   ]
  },
  {
   "cell_type": "code",
   "execution_count": null,
   "id": "0ed64e9c",
   "metadata": {},
   "outputs": [
    {
     "data": {
      "image/png": "[encoded data removed]",
      "text/plain": [
       "<Figure size 621.739x200.667 with 1 Axes>"
      ]
     },
     "execution_count": 5,
     "metadata": {},
     "output_type": "execute_result"
    }
   ],
   "source": [
    "from qiskit.circuit.library import RealAmplitudes, ZFeatureMap, ZZFeatureMap\n",
    "from qiskit_machine_learning.circuit.library import QNNCircuit\n",
    "\n",
    "feature_map = ZFeatureMap(feature_dimension=num_qubits, reps=2)\n",
    "ansatz = RealAmplitudes(num_qubits, reps=2)\n",
    "qc = QNNCircuit(feature_map=feature_map, ansatz=ansatz)\n",
    "qc.draw(\"mpl\")"
   ]
  },
  {
   "cell_type": "code",
   "execution_count": 6,
   "id": "68c89cb1",
   "metadata": {},
   "outputs": [
    {
     "data": {
      "image/png": "[encoded data removed]",
      "text/plain": [
       "<Figure size 872.572x200.667 with 1 Axes>"
      ]
     },
     "execution_count": 6,
     "metadata": {},
     "output_type": "execute_result"
    }
   ],
   "source": [
    "qc.decompose().draw(\"mpl\")"
   ]
  },
  {
   "cell_type": "markdown",
   "id": "c891e4b4",
   "metadata": {},
   "source": [
    "# SamplerQNN\n",
    "* This is an implementation based on the Sampler qiskit primitive. It takes in an optional instance of its corresponding primitive. \n",
    "* It's a Neural Neetwork based on the samples resulting from measuring a quantum circuit. \n",
    "* These output samples are interpreted by default as the probabilities of measuring the integer index corresponding to a bitstring.\n",
    "  * Example: If we measure 00, 01, 10, 11 (in a 2 qubit circuit), that will be interpreted as the integers 0,1,2,3 respectively, and the final result will be a 4 value probability vector (state vector).\n",
    "\n",
    "* Interpreter: It consists on a function to post-process the samples. It takes an integer (the index from a measured bitstring) and maps it to a new value (Which should be a more significant integer for our problem).\n",
    "  * Example: Parity function (00, 11 --> 0  and  01, 10 --> 1). In this case, the final result will be a probabillity vector of length 2.\n",
    "\n",
    "* Output shape: If an interpreter function is used, this parameter must be specified manually. \n"
   ]
  },
  {
   "cell_type": "code",
   "execution_count": 6,
   "id": "89c30de5",
   "metadata": {},
   "outputs": [],
   "source": [
    "# parity maps bitstrings to 0 or 1\n",
    "def parity(x):\n",
    "    return \"{:b}\".format(x).count(\"1\") % 2\n",
    "\n",
    "\n",
    "output_shape = 2  # corresponds to the number of classes, possible outcomes of the (parity) mapping."
   ]
  },
  {
   "cell_type": "code",
   "execution_count": 16,
   "id": "94dbc5bb",
   "metadata": {},
   "outputs": [
    {
     "data": {
      "text/plain": [
       "ParameterView([ParameterVectorElement(x[0]), ParameterVectorElement(x[1]), ParameterVectorElement(x[2])])"
      ]
     },
     "execution_count": 16,
     "metadata": {},
     "output_type": "execute_result"
    }
   ],
   "source": [
    "feature_map.parameters"
   ]
  },
  {
   "cell_type": "code",
   "execution_count": 17,
   "id": "649bdd8c",
   "metadata": {},
   "outputs": [],
   "source": [
    "objective_func_vals = []\n",
    "# callback function that draws a live plot when the .fit() method is called\n",
    "def callback_graph(weights, obj_func_eval):\n",
    "    clear_output(wait=True)\n",
    "    objective_func_vals.append(obj_func_eval)\n",
    "    plt.title(\"Objective function value against iteration\")\n",
    "    plt.xlabel(\"Iteration\")\n",
    "    plt.ylabel(\"Objective function value\")\n",
    "    plt.plot(range(len(objective_func_vals)), objective_func_vals)\n",
    "    plt.show()"
   ]
  },
  {
   "cell_type": "code",
   "execution_count": null,
   "id": "882e5965",
   "metadata": {},
   "outputs": [],
   "source": [
    "from qiskit_ibm_runtime import SamplerV2, Session\n",
    "from qiskit.transpiler.preset_passmanagers import generate_preset_pass_manager\n",
    "from qiskit_aer import AerSimulator, QasmSimulator\n",
    "from qiskit_machine_learning.gradients import ParamShiftSamplerGradient\n",
    "\n",
    "\n",
    "backend = AerSimulator(method='statevector', device='GPU')\n",
    "session = Session(backend=backend)\n",
    "pass_manager = generate_preset_pass_manager(optimization_level=0, target=backend.target)\n",
    "\n",
    "sampler = SamplerV2(mode=session)\n",
    "sampler_gradient = ParamShiftSamplerGradient(sampler=sampler, pass_manager=pass_manager)\n",
    "isa_qc = pass_manager.run(qc)\n",
    "\n",
    "sampler_qnn = SamplerQNN(\n",
    "    circuit=isa_qc,\n",
    "    input_params=feature_map.parameters,\n",
    "    weight_params=ansatz.parameters,\n",
    "    interpret=parity,\n",
    "    output_shape=output_shape,\n",
    "    sampler=sampler,\n",
    "    gradient=sampler_gradient,\n",
    ")"
   ]
  },
  {
   "cell_type": "code",
   "execution_count": 8,
   "id": "a28bc4ac",
   "metadata": {},
   "outputs": [],
   "source": [
    "sampler_classifier = NeuralNetworkClassifier(\n",
    "    neural_network=sampler_qnn, optimizer=COBYLA(maxiter=30)#, callback=callback_graph\n",
    ")"
   ]
  },
  {
   "cell_type": "code",
   "execution_count": 9,
   "id": "24cfe8e2",
   "metadata": {},
   "outputs": [
    {
     "data": {
      "text/plain": [
       "<qiskit_machine_learning.algorithms.classifiers.neural_network_classifier.NeuralNetworkClassifier at 0x7f7516783940>"
      ]
     },
     "execution_count": 9,
     "metadata": {},
     "output_type": "execute_result"
    }
   ],
   "source": [
    "sampler_classifier.fit(X_train, y_train)"
   ]
  },
  {
   "cell_type": "code",
   "execution_count": 10,
   "id": "23bedb27",
   "metadata": {},
   "outputs": [
    {
     "data": {
      "text/plain": [
       "0.3333333333333333"
      ]
     },
     "execution_count": 10,
     "metadata": {},
     "output_type": "execute_result"
    }
   ],
   "source": [
    "sampler_classifier.score(X_test, y_test)"
   ]
  },
  {
   "cell_type": "code",
   "execution_count": 11,
   "id": "7055184a",
   "metadata": {},
   "outputs": [
    {
     "data": {
      "text/plain": [
       "array([1, 1, 1])"
      ]
     },
     "execution_count": 11,
     "metadata": {},
     "output_type": "execute_result"
    }
   ],
   "source": [
    "sampler_classifier.predict(X_test)"
   ]
  },
  {
   "cell_type": "markdown",
   "id": "1f473fe3",
   "metadata": {},
   "source": [
    "# TEST"
   ]
  },
  {
   "cell_type": "code",
   "execution_count": 3,
   "id": "6016e5a7",
   "metadata": {},
   "outputs": [],
   "source": [
    "import pandas as pd\n",
    "import numpy as np\n",
    "import matplotlib.pyplot as plt\n",
    "import seaborn as sns"
   ]
  },
  {
   "cell_type": "code",
   "execution_count": 4,
   "id": "a399a0ed",
   "metadata": {},
   "outputs": [],
   "source": [
    "train = pd.read_csv(\"train_QNN3.csv\")\n",
    "test = pd.read_csv(\"test_QNN3.csv\")\n",
    "\n",
    "# Separar características y etiquetas para conjunto de entrenamiento\n",
    "X_train = train.drop(columns=['category'])\n",
    "y_train = train['category']\n",
    "\n",
    "# Separar características y etiquetas para conjunto de prueba\n",
    "X_test = test.drop(columns=['category'])\n",
    "y_test= test['category']"
   ]
  },
  {
   "cell_type": "code",
   "execution_count": 5,
   "id": "bae37659",
   "metadata": {},
   "outputs": [
    {
     "name": "stderr",
     "output_type": "stream",
     "text": [
      "2025-05-02 19:15:09.206437: E external/local_xla/xla/stream_executor/cuda/cuda_fft.cc:477] Unable to register cuFFT factory: Attempting to register factory for plugin cuFFT when one has already been registered\n",
      "WARNING: All log messages before absl::InitializeLog() is called are written to STDERR\n",
      "E0000 00:00:1746213309.228522 2775576 cuda_dnn.cc:8310] Unable to register cuDNN factory: Attempting to register factory for plugin cuDNN when one has already been registered\n",
      "E0000 00:00:1746213309.235367 2775576 cuda_blas.cc:1418] Unable to register cuBLAS factory: Attempting to register factory for plugin cuBLAS when one has already been registered\n",
      "2025-05-02 19:15:09.257312: I tensorflow/core/platform/cpu_feature_guard.cc:210] This TensorFlow binary is optimized to use available CPU instructions in performance-critical operations.\n",
      "To enable the following instructions: AVX2 FMA, in other operations, rebuild TensorFlow with the appropriate compiler flags.\n"
     ]
    }
   ],
   "source": [
    "from sklearn.preprocessing import LabelEncoder, label_binarize\n",
    "from tensorflow.keras.utils import to_categorical\n",
    "\n",
    "#Codificacion de etiquetas (Numéricas)\n",
    "label_encoder = LabelEncoder()\n",
    "y_train_encoded = label_encoder.fit_transform(y_train)\n",
    "y_test_encoded = label_encoder.fit_transform(y_test)\n",
    "\n",
    "# Convertir las etiquetas codificadas a codificación one-hot (10 columnas por muestras)\n",
    "y_train_one_hot = to_categorical(y_train_encoded, num_classes=10)\n",
    "y_test_one_hot = to_categorical(y_test_encoded, num_classes=10)"
   ]
  },
  {
   "cell_type": "code",
   "execution_count": 4,
   "id": "4529788f",
   "metadata": {},
   "outputs": [],
   "source": [
    "from IPython.display import clear_output\n",
    "objective_func_vals = []\n",
    "# callback function that draws a live plot when the .fit() method is called\n",
    "def callback_graph(weights, obj_func_eval):\n",
    "    clear_output(wait=True)\n",
    "    objective_func_vals.append(obj_func_eval)\n",
    "    plt.title(\"Objective function value against iteration\")\n",
    "    plt.xlabel(\"Iteration\")\n",
    "    plt.ylabel(\"Objective function value\")\n",
    "    plt.plot(range(len(objective_func_vals)), objective_func_vals)\n",
    "    plt.show()"
   ]
  },
  {
   "cell_type": "code",
   "execution_count": 6,
   "id": "9d0c51dd",
   "metadata": {},
   "outputs": [],
   "source": [
    "history = []\n",
    "\n",
    "def vqc_callback(weights, objective_value):\n",
    "    history.append((weights.copy(), objective_value))\n"
   ]
  },
  {
   "cell_type": "code",
   "execution_count": 7,
   "id": "e28cd0b2",
   "metadata": {},
   "outputs": [],
   "source": [
    "from qiskit_ibm_runtime import SamplerV2, Session\n",
    "from qiskit.transpiler.preset_passmanagers import generate_preset_pass_manager\n",
    "from qiskit_aer import AerSimulator, QasmSimulator\n",
    "from qiskit_machine_learning.algorithms.classifiers import  VQC\n",
    "from qiskit_machine_learning.optimizers import COBYLA, L_BFGS_B\n",
    "from qiskit.circuit.library import RealAmplitudes, ZFeatureMap, ZZFeatureMap\n",
    "\n",
    "num_qubits = X_train.shape[1]\n",
    "\n",
    "feature_map = ZFeatureMap(feature_dimension=num_qubits, reps=2)\n",
    "ansatz = RealAmplitudes(num_qubits, reps=2)\n",
    "\n",
    "backend = AerSimulator(method='statevector', device='GPU')\n",
    "session = Session(backend=backend)\n",
    "pass_manager = generate_preset_pass_manager(optimization_level=0, target=backend.target)\n",
    "\n",
    "sampler = SamplerV2(mode=session)\n",
    "#sampler_gradient = ParamShiftSamplerGradient(sampler=sampler, pass_manager=pass_manager)\n",
    "\n",
    "vqc = VQC(\n",
    "    feature_map=feature_map,\n",
    "    ansatz=ansatz,\n",
    "    loss=\"cross_entropy\",\n",
    "    optimizer=COBYLA(maxiter=50),\n",
    "    callback=vqc_callback,\n",
    "    sampler=sampler,\n",
    "    pass_manager=pass_manager,\n",
    "    output_shape=10\n",
    "    #gradient=sampler_gradient,\n",
    ")"
   ]
  },
  {
   "cell_type": "code",
   "execution_count": null,
   "id": "e7f890a6",
   "metadata": {},
   "outputs": [],
   "source": [
    "import time\n",
    "\n",
    "start_time = time.time()\n",
    "vqc.fit(X_train, y_train_one_hot)\n",
    "end_time = time.time()\n",
    "\n",
    "\n",
    "print(f\"Tiempo de entrenamiento: {end_time - start_time} segundos\")"
   ]
  },
  {
   "cell_type": "code",
   "execution_count": 14,
   "id": "30a29ca2",
   "metadata": {},
   "outputs": [
    {
     "data": {
      "image/png": "[encoded data removed]",
      "text/plain": [
       "<Figure size 640x480 with 1 Axes>"
      ]
     },
     "metadata": {},
     "output_type": "display_data"
    }
   ],
   "source": [
    "# Por ejemplo, plotear la evolución del loss\n",
    "import matplotlib.pyplot as plt\n",
    "\n",
    "losses = [entry[1] for entry in history]\n",
    "plt.plot(losses)\n",
    "plt.xlabel(\"Iteration\")\n",
    "plt.ylabel(\"Objective function\")\n",
    "plt.title(\"VQC Training Progress\")\n",
    "plt.grid(True)\n",
    "plt.show()"
   ]
  },
  {
   "cell_type": "code",
   "execution_count": null,
   "id": "28ad4636",
   "metadata": {},
   "outputs": [],
   "source": []
  }
 ],
 "metadata": {
  "kernelspec": {
   "display_name": "entorno",
   "language": "python",
   "name": "python3"
  },
  "language_info": {
   "codemirror_mode": {
    "name": "ipython",
    "version": 3
   },
   "file_extension": ".py",
   "mimetype": "text/x-python",
   "name": "python",
   "nbconvert_exporter": "python",
   "pygments_lexer": "ipython3",
   "version": "3.10.12"
  }
 },
 "nbformat": 4,
 "nbformat_minor": 5
}
