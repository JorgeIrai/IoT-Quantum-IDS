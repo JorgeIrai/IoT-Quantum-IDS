{
 "cells": [
  {
   "cell_type": "code",
   "execution_count": 1,
   "metadata": {},
   "outputs": [],
   "source": [
    "import pandas as pd\n",
    "import numpy as np\n",
    "import matplotlib.pyplot as plt\n",
    "import seaborn as sns\n",
    "from sklearn.preprocessing import StandardScaler\n",
    "from sklearn.model_selection import train_test_split\n",
    "from sklearn.decomposition import PCA\n",
    "from sklearn.metrics import accuracy_score, confusion_matrix, classification_report"
   ]
  },
  {
   "cell_type": "code",
   "execution_count": 2,
   "metadata": {},
   "outputs": [],
   "source": [
    "import os\n",
    "\n",
    "# Establece la GPU a usar (en este caso la GPU #1)\n",
    "os.environ[\"CUDA_VISIBLE_DEVICES\"] = \"1\"\n",
    "#os.environ[\"CUDA_VISIBLE_DEVICES\"] = \"'0,1,2,3\""
   ]
  },
  {
   "cell_type": "code",
   "execution_count": 3,
   "metadata": {},
   "outputs": [
    {
     "name": "stdout",
     "output_type": "stream",
     "text": [
      "1\n"
     ]
    }
   ],
   "source": [
    "print(os.environ.get(\"CUDA_VISIBLE_DEVICES\"))"
   ]
  },
  {
   "cell_type": "code",
   "execution_count": 4,
   "metadata": {},
   "outputs": [
    {
     "name": "stderr",
     "output_type": "stream",
     "text": [
      "2025-02-12 19:38:06.653142: E external/local_xla/xla/stream_executor/cuda/cuda_fft.cc:477] Unable to register cuFFT factory: Attempting to register factory for plugin cuFFT when one has already been registered\n",
      "WARNING: All log messages before absl::InitializeLog() is called are written to STDERR\n",
      "E0000 00:00:1739389086.671263 2701900 cuda_dnn.cc:8310] Unable to register cuDNN factory: Attempting to register factory for plugin cuDNN when one has already been registered\n",
      "E0000 00:00:1739389086.676937 2701900 cuda_blas.cc:1418] Unable to register cuBLAS factory: Attempting to register factory for plugin cuBLAS when one has already been registered\n",
      "2025-02-12 19:38:06.695768: I tensorflow/core/platform/cpu_feature_guard.cc:210] This TensorFlow binary is optimized to use available CPU instructions in performance-critical operations.\n",
      "To enable the following instructions: AVX2 FMA, in other operations, rebuild TensorFlow with the appropriate compiler flags.\n"
     ]
    },
    {
     "name": "stdout",
     "output_type": "stream",
     "text": [
      "[PhysicalDevice(name='/physical_device:GPU:0', device_type='GPU'), PhysicalDevice(name='/physical_device:GPU:1', device_type='GPU')]\n"
     ]
    }
   ],
   "source": [
    "import tensorflow as tf; print(tf.config.list_physical_devices('GPU'))"
   ]
  },
  {
   "cell_type": "code",
   "execution_count": 4,
   "metadata": {},
   "outputs": [],
   "source": [
    "train = pd.read_csv(\"train.csv\")\n",
    "validation = pd.read_csv(\"validation.csv\")\n",
    "test = pd.read_csv(\"test.csv\")"
   ]
  },
  {
   "cell_type": "code",
   "execution_count": 5,
   "metadata": {},
   "outputs": [],
   "source": [
    "#Eliminamos la primera columna, generada al pasar el conjunto de datos a formato csv.\n",
    "train=train.drop(columns='Unnamed: 0')\n",
    "validation=validation.drop(columns = 'Unnamed: 0')\n",
    "test=test.drop(columns='Unnamed: 0')"
   ]
  },
  {
   "cell_type": "code",
   "execution_count": 6,
   "metadata": {},
   "outputs": [],
   "source": [
    "porcentaje_mantener = 0.0005\n",
    "\n",
    "\n",
    "train_reducido_udp = train[train['proto'] == 'UDP'].groupby('category').sample(frac=porcentaje_mantener)\n",
    "train_reducido_tcp = train[train['proto'] == 'TCP'].groupby('category').sample(frac=porcentaje_mantener)\n",
    "\n",
    "train_reducido = pd.concat([train_reducido_udp, train_reducido_tcp])\n",
    "\n",
    "validation_reducido_udp = validation[validation['proto'] == 'UDP'].groupby('category').sample(frac=porcentaje_mantener)\n",
    "validation_reducido_tcp = validation[validation['proto'] == 'TCP'].groupby('category').sample(frac=porcentaje_mantener)\n",
    "\n",
    "validation_reducido = pd.concat([validation_reducido_udp, validation_reducido_tcp])\n",
    "\n",
    "test_reducido_udp = test[test['proto'] == 'UDP'].groupby('category').sample(frac=porcentaje_mantener)\n",
    "test_reducido_tcp = test[test['proto'] == 'TCP'].groupby('category').sample(frac=porcentaje_mantener)\n",
    "\n",
    "test_reducido = pd.concat([test_reducido_udp, test_reducido_tcp])"
   ]
  },
  {
   "cell_type": "code",
   "execution_count": 7,
   "metadata": {},
   "outputs": [
    {
     "data": {
      "text/plain": [
       "category\n",
       "Benign                 56\n",
       "DDoS-UDP_Flood         56\n",
       "DoS-SYN_Flood          56\n",
       "DoS-HTTP_Flood         56\n",
       "DoS-UDP_Flood          56\n",
       "Recon-HostDiscovery    56\n",
       "DDoS-SYN_Flood         56\n",
       "DDoS-HTTP_Flood        55\n",
       "Recon-PortScan         55\n",
       "Recon-OSScan           55\n",
       "Name: count, dtype: int64"
      ]
     },
     "execution_count": 7,
     "metadata": {},
     "output_type": "execute_result"
    }
   ],
   "source": [
    "train_reducido['category'].value_counts()"
   ]
  },
  {
   "cell_type": "code",
   "execution_count": 8,
   "metadata": {},
   "outputs": [
    {
     "name": "stderr",
     "output_type": "stream",
     "text": [
      "/tmp/ipykernel_3045897/732036173.py:1: FutureWarning: A value is trying to be set on a copy of a DataFrame or Series through chained assignment using an inplace method.\n",
      "The behavior will change in pandas 3.0. This inplace method will never work because the intermediate object on which we are setting values always behaves as a copy.\n",
      "\n",
      "For example, when doing 'df[col].method(value, inplace=True)', try using 'df.method({col: value}, inplace=True)' or df[col] = df[col].method(value) instead, to perform the operation inplace on the original object.\n",
      "\n",
      "\n",
      "  train_reducido['proto'].replace({'TCP': 0, 'UDP': 1}, inplace=True)\n",
      "/tmp/ipykernel_3045897/732036173.py:1: FutureWarning: Downcasting behavior in `replace` is deprecated and will be removed in a future version. To retain the old behavior, explicitly call `result.infer_objects(copy=False)`. To opt-in to the future behavior, set `pd.set_option('future.no_silent_downcasting', True)`\n",
      "  train_reducido['proto'].replace({'TCP': 0, 'UDP': 1}, inplace=True)\n",
      "/tmp/ipykernel_3045897/732036173.py:2: FutureWarning: A value is trying to be set on a copy of a DataFrame or Series through chained assignment using an inplace method.\n",
      "The behavior will change in pandas 3.0. This inplace method will never work because the intermediate object on which we are setting values always behaves as a copy.\n",
      "\n",
      "For example, when doing 'df[col].method(value, inplace=True)', try using 'df.method({col: value}, inplace=True)' or df[col] = df[col].method(value) instead, to perform the operation inplace on the original object.\n",
      "\n",
      "\n",
      "  validation_reducido['proto'].replace({'TCP': 0, 'UDP': 1}, inplace=True)\n",
      "/tmp/ipykernel_3045897/732036173.py:2: FutureWarning: Downcasting behavior in `replace` is deprecated and will be removed in a future version. To retain the old behavior, explicitly call `result.infer_objects(copy=False)`. To opt-in to the future behavior, set `pd.set_option('future.no_silent_downcasting', True)`\n",
      "  validation_reducido['proto'].replace({'TCP': 0, 'UDP': 1}, inplace=True)\n",
      "/tmp/ipykernel_3045897/732036173.py:3: FutureWarning: A value is trying to be set on a copy of a DataFrame or Series through chained assignment using an inplace method.\n",
      "The behavior will change in pandas 3.0. This inplace method will never work because the intermediate object on which we are setting values always behaves as a copy.\n",
      "\n",
      "For example, when doing 'df[col].method(value, inplace=True)', try using 'df.method({col: value}, inplace=True)' or df[col] = df[col].method(value) instead, to perform the operation inplace on the original object.\n",
      "\n",
      "\n",
      "  test_reducido['proto'].replace({'TCP': 0, 'UDP': 1}, inplace=True)\n",
      "/tmp/ipykernel_3045897/732036173.py:3: FutureWarning: Downcasting behavior in `replace` is deprecated and will be removed in a future version. To retain the old behavior, explicitly call `result.infer_objects(copy=False)`. To opt-in to the future behavior, set `pd.set_option('future.no_silent_downcasting', True)`\n",
      "  test_reducido['proto'].replace({'TCP': 0, 'UDP': 1}, inplace=True)\n"
     ]
    }
   ],
   "source": [
    "train_reducido['proto'].replace({'TCP': 0, 'UDP': 1}, inplace=True)\n",
    "validation_reducido['proto'].replace({'TCP': 0, 'UDP': 1}, inplace=True)\n",
    "test_reducido['proto'].replace({'TCP': 0, 'UDP': 1}, inplace=True)"
   ]
  },
  {
   "cell_type": "code",
   "execution_count": 9,
   "metadata": {},
   "outputs": [],
   "source": [
    "# Separar características y etiquetas para conjunto de entrenamiento\n",
    "X_train_reducido = train_reducido.drop(columns=['category'])\n",
    "y_train_reducido = train_reducido['category']\n",
    "\n",
    "# Separar características y etiquetas para conjunto de validación\n",
    "X_val_reducido = validation_reducido.drop(columns=['category'])\n",
    "y_val_reducido = validation_reducido['category']\n",
    "\n",
    "# Separar características y etiquetas para conjunto de prueba\n",
    "X_test_reducido = test_reducido.drop(columns=['category'])\n",
    "y_test_reducido = test_reducido['category']"
   ]
  },
  {
   "cell_type": "code",
   "execution_count": 10,
   "metadata": {},
   "outputs": [],
   "source": [
    "#Normalización del conjunto de datos reducido\n",
    "norm = StandardScaler()\n",
    "\n",
    "X_train_reducido = norm.fit_transform(X_train_reducido)\n",
    "X_val_reducido = norm.fit_transform(X_val_reducido)\n",
    "X_test_reducido = norm.fit_transform(X_test_reducido)\n",
    "\n",
    "pca = PCA(n_components=25)\n",
    "X_train_reducido = pca.fit_transform(X_train_reducido)\n",
    "X_val_reducido = pca.transform(X_val_reducido)\n",
    "X_test_reducido = pca.transform(X_test_reducido)"
   ]
  },
  {
   "cell_type": "code",
   "execution_count": 11,
   "metadata": {},
   "outputs": [],
   "source": [
    "from qiskit_ibm_runtime import Session, SamplerV2, EstimatorV2\n",
    "from qiskit.providers.fake_provider import Fake127QPulseV1\n",
    "from qiskit_ibm_runtime.fake_provider import FakeBrisbane \n",
    "from qiskit.transpiler.preset_passmanagers import generate_preset_pass_manager\n",
    "from qiskit_aer import AerSimulator, QasmSimulator\n",
    "#from qiskit_aer.primitives import SamplerV2\n",
    "\n",
    "from qiskit_machine_learning.state_fidelities import ComputeUncompute\n",
    "from qiskit_machine_learning.kernels import FidelityQuantumKernel\n",
    "from qiskit.circuit.library import ZZFeatureMap\n",
    "\n",
    "num_qubits = X_train_reducido.shape[1]\n",
    "\n",
    "backend = AerSimulator(method='statevector', device='GPU')\n",
    "session = Session(backend=backend)\n",
    "pass_manager = generate_preset_pass_manager(optimization_level=0, target=backend.target)\n",
    "\n",
    "sampler = SamplerV2(mode=session)\n",
    "fidelity = ComputeUncompute(sampler=sampler, pass_manager=pass_manager)\n",
    "\n",
    "feature_map = ZZFeatureMap(feature_dimension=num_qubits)\n",
    "qk = FidelityQuantumKernel(feature_map=feature_map, fidelity=fidelity)"
   ]
  },
  {
   "cell_type": "code",
   "execution_count": 12,
   "metadata": {},
   "outputs": [
    {
     "name": "stdout",
     "output_type": "stream",
     "text": [
      "Backend device: GPU\n"
     ]
    }
   ],
   "source": [
    "# Verificar si se seleccionó GPU\n",
    "print(f\"Backend device: {backend.options.device}\")"
   ]
  },
  {
   "cell_type": "code",
   "execution_count": null,
   "metadata": {},
   "outputs": [],
   "source": [
    "from qiskit_machine_learning.algorithms import QSVC\n",
    "import time\n",
    "\n",
    "qsvc = QSVC(quantum_kernel=qk)\n",
    "\n",
    "start = time.time()\n",
    "qsvc.fit(X_train_reducido, y_train_reducido)\n",
    "stop = time.time()\n",
    "\n",
    "train_time = stop - start\n",
    "\n",
    "#start = time.time()\n",
    "#qsvc_score = qsvc.score(X_test_reducido, y_test_reducido)\n",
    "#stop = time.time()\n",
    "\n",
    "#test_time = stop - start\n",
    "\n",
    "print(f\"Training Time: {train_time}\")\n",
    "#print(f\"Testing Time: {test_time}\")\n",
    "#print(f\"Total Time: {train_time + test_time}\")\n",
    "#print(f\"QSVC classification test score: {qsvc_score}\")"
   ]
  },
  {
   "cell_type": "code",
   "execution_count": null,
   "metadata": {},
   "outputs": [],
   "source": [
    "import pandas as pd\n",
    "import numpy as np\n",
    "import time\n",
    "import os\n",
    "from sklearn.ensemble import RandomForestClassifier\n",
    "from sklearn.preprocessing import StandardScaler, RobustScaler\n",
    "from sklearn import svm\n",
    "from sklearn.neural_network import MLPClassifier\n",
    "from sklearn.metrics import accuracy_score\n",
    "from sklearn.metrics import roc_curve\n",
    "from sklearn import metrics\n",
    "import seaborn as sns\n",
    "import matplotlib.pyplot as plt\n",
    "from sklearn.metrics import roc_curve, auc"
   ]
  },
  {
   "cell_type": "code",
   "execution_count": null,
   "metadata": {},
   "outputs": [],
   "source": [
    "y_pred_SVM_val = qsvc.predict(X_val_reducido)\n",
    "y_pred_SVM_test = qsvc.predict(X_test_reducido)"
   ]
  },
  {
   "cell_type": "code",
   "execution_count": null,
   "metadata": {},
   "outputs": [],
   "source": [
    "cm1 = metrics.confusion_matrix(y_val_reducido, y_pred_SVM_val)\n",
    "normalized_matrix = cm1 #/ cm.sum(axis=1, keepdims=True)\n",
    "\n",
    "class_names = ['Benign', 'DDoS-HTTP_Flood', 'DDoS-SYN_Flood', 'DDoS-UDP_Flood', 'DoS-HTTP_Flood', 'DoS-SYN_Flood', 'DoS-UDP_Flood', 'Recon-HostDiscovery', 'Recon-OSScan', 'Recon-PortScan']\n",
    "\n",
    "sns.heatmap(normalized_matrix, annot = True, fmt = '0.0f', linewidth=0.5, xticklabels=class_names,\n",
    "            yticklabels=class_names, square = True, cmap='Blues', cbar = False)\n",
    "\n",
    "fig = plt.gcf()\n",
    "fig.set_size_inches(5, 5)\n",
    "\n",
    "plt.ylabel('Valores Reales')\n",
    "plt.xlabel('Valores Predichos')\n",
    "plt.show()"
   ]
  }
 ],
 "metadata": {
  "kernelspec": {
   "display_name": "entorno",
   "language": "python",
   "name": "python3"
  },
  "language_info": {
   "codemirror_mode": {
    "name": "ipython",
    "version": 3
   },
   "file_extension": ".py",
   "mimetype": "text/x-python",
   "name": "python",
   "nbconvert_exporter": "python",
   "pygments_lexer": "ipython3",
   "version": "3.10.12"
  }
 },
 "nbformat": 4,
 "nbformat_minor": 2
}
