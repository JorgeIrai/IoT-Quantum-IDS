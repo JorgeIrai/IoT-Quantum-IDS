{
 "cells": [
  {
   "cell_type": "code",
   "execution_count": 1,
   "metadata": {},
   "outputs": [],
   "source": [
    "from qiskit_machine_learning.datasets import ad_hoc_data\n",
    "\n",
    "adhoc_dimension = 2\n",
    "train_features, train_labels, test_features, test_labels, adhoc_total = ad_hoc_data(\n",
    "    training_size=60,\n",
    "    test_size=15,\n",
    "    n=adhoc_dimension,\n",
    "    gap=0.3,\n",
    "    plot_data=False,\n",
    "    one_hot=False,\n",
    "    include_sample_total=True,\n",
    ")"
   ]
  },
  {
   "cell_type": "code",
   "execution_count": 2,
   "metadata": {},
   "outputs": [],
   "source": [
    "from qiskit_ibm_runtime import Session, SamplerV2, EstimatorV2\n",
    "from qiskit.providers.fake_provider import Fake127QPulseV1\n",
    "from qiskit_ibm_runtime.fake_provider import FakeBrisbane \n",
    "from qiskit.transpiler.preset_passmanagers import generate_preset_pass_manager\n",
    "from qiskit_aer import AerSimulator, QasmSimulator\n",
    "#from qiskit_aer.primitives import SamplerV2 as Sampler\n",
    "\n",
    "from qiskit_machine_learning.state_fidelities import ComputeUncompute\n",
    "from qiskit_machine_learning.kernels import FidelityQuantumKernel\n",
    "from qiskit.circuit.library import ZZFeatureMap\n",
    "\n",
    "num_qubits = train_features.shape[1]\n",
    "\n",
    "backend = AerSimulator(method='statevector', device='CPU')\n",
    "session = Session(backend=backend)\n",
    "pass_manager = generate_preset_pass_manager(optimization_level=1, target=backend.target)\n",
    "\n",
    "sampler = SamplerV2(mode=session)\n",
    "fidelity = ComputeUncompute(sampler=sampler, pass_manager=pass_manager)\n",
    "\n",
    "feature_map = ZZFeatureMap(feature_dimension=num_qubits)\n",
    "qk = FidelityQuantumKernel(feature_map=feature_map, fidelity=fidelity)"
   ]
  },
  {
   "cell_type": "code",
   "execution_count": 3,
   "metadata": {},
   "outputs": [
    {
     "name": "stdout",
     "output_type": "stream",
     "text": [
      "Training Time: 32.51245474815369\n",
      "Testing Time: 12.401498317718506\n",
      "Total Time: 44.91395306587219\n",
      "Callable kernel classification test score: 1.0\n"
     ]
    }
   ],
   "source": [
    "from sklearn.svm import SVC\n",
    "import time\n",
    "\n",
    "SVM = SVC(kernel=qk.evaluate)\n",
    "\n",
    "start = time.time()\n",
    "SVM.fit(train_features, train_labels)\n",
    "stop = time.time()\n",
    "\n",
    "train_time = stop - start\n",
    "\n",
    "start = time.time()\n",
    "SVM_score = SVM.score(test_features, test_labels)\n",
    "stop = time.time()\n",
    "\n",
    "test_time = stop - start\n",
    "\n",
    "print(f\"Training Time: {train_time}\")\n",
    "print(f\"Testing Time: {test_time}\")\n",
    "print(f\"Total Time: {train_time + test_time}\")\n",
    "print(f\"Callable kernel classification test score: {SVM_score}\")"
   ]
  }
 ],
 "metadata": {
  "kernelspec": {
   "display_name": "base",
   "language": "python",
   "name": "python3"
  },
  "language_info": {
   "codemirror_mode": {
    "name": "ipython",
    "version": 3
   },
   "file_extension": ".py",
   "mimetype": "text/x-python",
   "name": "python",
   "nbconvert_exporter": "python",
   "pygments_lexer": "ipython3",
   "version": "3.9.13"
  }
 },
 "nbformat": 4,
 "nbformat_minor": 2
}
