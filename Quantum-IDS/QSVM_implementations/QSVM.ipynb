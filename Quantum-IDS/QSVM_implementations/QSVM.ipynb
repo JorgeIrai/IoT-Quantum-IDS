{
 "cells": [
  {
   "cell_type": "markdown",
   "metadata": {},
   "source": [
    "# DATASET"
   ]
  },
  {
   "cell_type": "code",
   "execution_count": 1,
   "metadata": {},
   "outputs": [],
   "source": [
    "import os\n",
    "\n",
    "# Establece la GPU a usar (en este caso la GPU #1)\n",
    "os.environ[\"CUDA_VISIBLE_DEVICES\"] = \"1\""
   ]
  },
  {
   "cell_type": "code",
   "execution_count": 1,
   "metadata": {},
   "outputs": [],
   "source": [
    "from qiskit_machine_learning.datasets import ad_hoc_data\n",
    "\n",
    "adhoc_dimension = 2\n",
    "train_features, train_labels, test_features, test_labels, adhoc_total = ad_hoc_data(\n",
    "    training_size=10,\n",
    "    test_size=1,\n",
    "    n=adhoc_dimension,\n",
    "    gap=0.3,\n",
    "    plot_data=False,\n",
    "    one_hot=False,\n",
    "    include_sample_total=True,\n",
    ")"
   ]
  },
  {
   "cell_type": "markdown",
   "metadata": {},
   "source": [
    "# DATASET 2"
   ]
  },
  {
   "cell_type": "code",
   "execution_count": 2,
   "metadata": {},
   "outputs": [],
   "source": [
    "import pandas as pd\n",
    "import numpy as np\n",
    "import matplotlib.pyplot as plt\n",
    "import seaborn as sns\n",
    "from sklearn.preprocessing import StandardScaler\n",
    "from sklearn.model_selection import train_test_split\n",
    "from sklearn.decomposition import PCA\n",
    "from sklearn.metrics import accuracy_score, confusion_matrix, classification_report"
   ]
  },
  {
   "cell_type": "code",
   "execution_count": 4,
   "metadata": {},
   "outputs": [
    {
     "name": "stderr",
     "output_type": "stream",
     "text": [
      "/tmp/ipykernel_1953528/297968902.py:6: DeprecationWarning: DataFrameGroupBy.apply operated on the grouping columns. This behavior is deprecated, and in a future version of pandas the grouping columns will be excluded from the operation. Either pass `include_groups=False` to exclude the groupings or explicitly select the grouping columns after groupby to silence this warning.\n",
      "  num_muestras_por_etiqueta = dataset.groupby('Outcome').apply(lambda x: int(len(x) * porcentaje_mantener)).to_dict()\n"
     ]
    }
   ],
   "source": [
    "def reducir_muestras(dataset, porcentaje_mantener):\n",
    "    if not 0 < porcentaje_mantener <= 1:\n",
    "        raise ValueError('El porcentaje a mantener debe ser un número entre 0 y 1')\n",
    "    \n",
    "    # Calculamos el número de muestras a mantener por cada etiqueta 'Outcome'\n",
    "    num_muestras_por_etiqueta = dataset.groupby('Outcome').apply(lambda x: int(len(x) * porcentaje_mantener)).to_dict()\n",
    "    \n",
    "    # Seleccionamos aleatoriamente las muestras a mantener por cada etiqueta 'Outcome'\n",
    "    indices = []\n",
    "    for etiqueta, num_muestras in num_muestras_por_etiqueta.items():\n",
    "        indices_etiqueta = np.random.choice(dataset[dataset['Outcome'] == etiqueta].index, num_muestras, replace=False)\n",
    "        indices.extend(indices_etiqueta)\n",
    "    \n",
    "    return dataset.loc[indices]\n",
    "\n",
    "porcentaje_mantener = 1\n",
    "\n",
    "data = pd.read_csv('diabetes.csv')\n",
    "data_R = reducir_muestras(data, porcentaje_mantener)"
   ]
  },
  {
   "cell_type": "code",
   "execution_count": 5,
   "metadata": {},
   "outputs": [],
   "source": [
    "X = data_R.iloc[:, :-1].values\n",
    "y = data_R['Outcome'].values\n",
    "\n",
    "scaler = StandardScaler()\n",
    "X = scaler.fit_transform(X)\n",
    "\n",
    "#pca = PCA(n_components=4)\n",
    "#X = pca.fit_transform(X)\n",
    "\n",
    "train_features, test_features, train_labels, test_labels = train_test_split(X, y, test_size=0.2, random_state=2)"
   ]
  },
  {
   "cell_type": "markdown",
   "metadata": {},
   "source": [
    "# SIMULATION"
   ]
  },
  {
   "cell_type": "code",
   "execution_count": 6,
   "metadata": {},
   "outputs": [],
   "source": [
    "from qiskit_ibm_runtime import Session, SamplerV2, EstimatorV2\n",
    "from qiskit.providers.fake_provider import Fake127QPulseV1\n",
    "from qiskit_ibm_runtime.fake_provider import FakeBrisbane \n",
    "from qiskit.transpiler.preset_passmanagers import generate_preset_pass_manager\n",
    "from qiskit_aer import AerSimulator, QasmSimulator\n",
    "#from qiskit_aer.primitives import SamplerV2\n",
    "\n",
    "from qiskit_machine_learning.state_fidelities import ComputeUncompute\n",
    "from qiskit_machine_learning.kernels import FidelityQuantumKernel\n",
    "from qiskit.circuit.library import ZZFeatureMap\n",
    "\n",
    "num_qubits = train_features.shape[1]\n",
    "\n",
    "backend = AerSimulator(method='statevector', device='CPU')\n",
    "session = Session(backend=backend)\n",
    "pass_manager = generate_preset_pass_manager(optimization_level=1, target=backend.target)\n",
    "\n",
    "sampler = SamplerV2(mode=session)\n",
    "fidelity = ComputeUncompute(sampler=sampler, pass_manager=pass_manager)\n",
    "\n",
    "feature_map = ZZFeatureMap(feature_dimension=num_qubits)\n",
    "qk = FidelityQuantumKernel(feature_map=feature_map, fidelity=fidelity)"
   ]
  },
  {
   "cell_type": "code",
   "execution_count": 7,
   "metadata": {},
   "outputs": [
    {
     "name": "stdout",
     "output_type": "stream",
     "text": [
      "Backend device: CPU\n"
     ]
    }
   ],
   "source": [
    "# Verificar si se seleccionó GPU\n",
    "print(f\"Backend device: {backend.options.device}\")"
   ]
  },
  {
   "cell_type": "code",
   "execution_count": 8,
   "metadata": {},
   "outputs": [
    {
     "name": "stdout",
     "output_type": "stream",
     "text": [
      "Training Time: 3075.9865782260895\n",
      "Testing Time: 1551.3744049072266\n",
      "Total Time: 4627.360983133316\n",
      "QSVC classification test score: 0.6428571428571429\n"
     ]
    }
   ],
   "source": [
    "from qiskit_machine_learning.algorithms import QSVC\n",
    "import time\n",
    "\n",
    "qsvc = QSVC(quantum_kernel=qk)\n",
    "\n",
    "start = time.time()\n",
    "qsvc.fit(train_features, train_labels)\n",
    "stop = time.time()\n",
    "\n",
    "train_time = stop - start\n",
    "\n",
    "start = time.time()\n",
    "qsvc_score = qsvc.score(test_features, test_labels)\n",
    "stop = time.time()\n",
    "\n",
    "test_time = stop - start\n",
    "\n",
    "print(f\"Training Time: {train_time}\")\n",
    "print(f\"Testing Time: {test_time}\")\n",
    "print(f\"Total Time: {train_time + test_time}\")\n",
    "print(f\"QSVC classification test score: {qsvc_score}\")"
   ]
  },
  {
   "cell_type": "markdown",
   "metadata": {},
   "source": [
    "# QPU EXECUTION"
   ]
  },
  {
   "cell_type": "code",
   "execution_count": 9,
   "metadata": {},
   "outputs": [],
   "source": [
    "from qiskit_ibm_runtime import QiskitRuntimeService\n",
    "\n",
    "service = QiskitRuntimeService(channel=\"ibm_quantum\", #ibm_cloud\n",
    "                               token='3aa94245772e1f158c23f72db59e301c40162b1807e98fb757bc1dc9e70f9f425f48bcfd6fe16305d02d332b18eae862e3ccdb625e5d6955141bbc6ad8aa26fa')"
   ]
  },
  {
   "cell_type": "code",
   "execution_count": 10,
   "metadata": {},
   "outputs": [],
   "source": [
    "# This is for saving the account so i won't need to put the token again\n",
    "QiskitRuntimeService.save_account(channel='ibm_quantum',\n",
    "                                  token='3aa94245772e1f158c23f72db59e301c40162b1807e98fb757bc1dc9e70f9f425f48bcfd6fe16305d02d332b18eae862e3ccdb625e5d6955141bbc6ad8aa26fa')"
   ]
  },
  {
   "cell_type": "code",
   "execution_count": 3,
   "metadata": {},
   "outputs": [],
   "source": [
    "from qiskit_ibm_runtime import Session, SamplerV2\n",
    "from qiskit.transpiler.preset_passmanagers import generate_preset_pass_manager\n",
    "from qiskit_ibm_runtime import QiskitRuntimeService\n",
    "\n",
    "from qiskit_machine_learning.state_fidelities import ComputeUncompute\n",
    "from qiskit_machine_learning.kernels import FidelityQuantumKernel\n",
    "from qiskit.circuit.library import ZZFeatureMap\n",
    "\n",
    "num_qubits = train_features.shape[1]\n",
    "\n",
    "service = QiskitRuntimeService()\n",
    "backend = service.backend(name='ibm_brisbane')\n",
    "\n",
    "session = Session(backend=backend)\n",
    "pass_manager = generate_preset_pass_manager(optimization_level=0, backend=backend)\n",
    "\n",
    "sampler = SamplerV2(mode=session)\n",
    "fidelity = ComputeUncompute(sampler=sampler, pass_manager=pass_manager)\n",
    "\n",
    "feature_map = ZZFeatureMap(num_qubits)\n",
    "qk = FidelityQuantumKernel(feature_map=feature_map, fidelity=fidelity)\n"
   ]
  },
  {
   "cell_type": "code",
   "execution_count": 4,
   "metadata": {},
   "outputs": [],
   "source": [
    "from qiskit_machine_learning.algorithms import QSVC\n",
    "import time\n",
    "\n",
    "qsvc = QSVC(quantum_kernel=qk)\n",
    "\n",
    "result = qsvc.fit(train_features, train_labels)"
   ]
  },
  {
   "cell_type": "code",
   "execution_count": 5,
   "metadata": {},
   "outputs": [
    {
     "name": "stdout",
     "output_type": "stream",
     "text": [
      "Testing Time: 59.06839895248413\n",
      "QSVC classification test score: 1.0\n"
     ]
    }
   ],
   "source": [
    "start = time.time()\n",
    "qsvc_score = result.score(test_features, test_labels)\n",
    "stop = time.time()\n",
    "\n",
    "test_time = stop - start\n",
    "\n",
    "print(f\"Testing Time: {test_time}\")\n",
    "print(f\"QSVC classification test score: {qsvc_score}\")"
   ]
  },
  {
   "cell_type": "code",
   "execution_count": 1,
   "metadata": {},
   "outputs": [],
   "source": [
    "from qiskit_ibm_runtime import QiskitRuntimeService\n",
    "service = QiskitRuntimeService()\n",
    "\n",
    "# Obtener el job con el ID específico\n",
    "job = service.job(\"cydbhv77v8tg008g6m30\")"
   ]
  },
  {
   "cell_type": "code",
   "execution_count": 2,
   "metadata": {},
   "outputs": [],
   "source": [
    "result = job.result()"
   ]
  }
 ],
 "metadata": {
  "kernelspec": {
   "display_name": "entorno",
   "language": "python",
   "name": "python3"
  },
  "language_info": {
   "codemirror_mode": {
    "name": "ipython",
    "version": 3
   },
   "file_extension": ".py",
   "mimetype": "text/x-python",
   "name": "python",
   "nbconvert_exporter": "python",
   "pygments_lexer": "ipython3",
   "version": "3.10.12"
  }
 },
 "nbformat": 4,
 "nbformat_minor": 2
}
